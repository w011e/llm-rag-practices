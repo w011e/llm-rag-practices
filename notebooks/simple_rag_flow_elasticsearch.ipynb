{
 "cells": [
  {
   "cell_type": "markdown",
   "id": "d2b05884-51b1-4c5c-b838-47f9113d6bb7",
   "metadata": {},
   "source": [
    "## Prepare Elasticsearch"
   ]
  },
  {
   "cell_type": "code",
   "execution_count": 1,
   "id": "16d8c149-ae68-4f93-9899-a12759f5b79b",
   "metadata": {},
   "outputs": [],
   "source": [
    "from elasticsearch import Elasticsearch"
   ]
  },
  {
   "cell_type": "code",
   "execution_count": 2,
   "id": "6092bb72-b873-4196-b8b0-6a0441093471",
   "metadata": {},
   "outputs": [],
   "source": [
    "# Route traffic to running docker \n",
    "es_client = Elasticsearch('http://localhost:9200')"
   ]
  },
  {
   "cell_type": "code",
   "execution_count": 3,
   "id": "2bcd401d-84d1-4a20-92f1-8f32d1090995",
   "metadata": {},
   "outputs": [
    {
     "data": {
      "text/plain": [
       "{'name': '8de99bb3d4ff',\n",
       " 'cluster_name': 'docker-cluster',\n",
       " 'cluster_uuid': 'G2RUPustTUerubQ_H7xGuw',\n",
       " 'version': {'number': '8.4.3',\n",
       "  'build_flavor': 'default',\n",
       "  'build_type': 'docker',\n",
       "  'build_hash': '42f05b9372a9a4a470db3b52817899b99a76ee73',\n",
       "  'build_date': '2022-10-04T07:17:24.662462378Z',\n",
       "  'build_snapshot': False,\n",
       "  'lucene_version': '9.3.0',\n",
       "  'minimum_wire_compatibility_version': '7.17.0',\n",
       "  'minimum_index_compatibility_version': '7.0.0'},\n",
       " 'tagline': 'You Know, for Search'}"
      ]
     },
     "execution_count": 3,
     "metadata": {},
     "output_type": "execute_result"
    }
   ],
   "source": [
    "# Verify \n",
    "es_client.info()"
   ]
  },
  {
   "cell_type": "markdown",
   "id": "f56627b0-7b71-424c-93e2-f11dace675d2",
   "metadata": {},
   "source": [
    "## Create index "
   ]
  },
  {
   "cell_type": "code",
   "execution_count": 4,
   "id": "d2f5b442-6db1-4597-8e68-6d9bc174715b",
   "metadata": {},
   "outputs": [],
   "source": [
    "index_settings = {\n",
    "    \"settings\": {\n",
    "        \"number_of_shards\": 1,\n",
    "        \"number_of_replicas\": 0\n",
    "    },\n",
    "    \"mappings\": {\n",
    "        \"properties\": {\n",
    "            \"text\": {\"type\": \"text\"},\n",
    "            \"section\": {\"type\": \"text\"},\n",
    "            \"question\": {\"type\": \"text\"},\n",
    "            \"course\": {\"type\": \"keyword\"} \n",
    "        }\n",
    "    }\n",
    "}"
   ]
  },
  {
   "cell_type": "code",
   "execution_count": 5,
   "id": "36124b4b-477b-47ab-9d9a-e41f18a462ea",
   "metadata": {},
   "outputs": [],
   "source": [
    "index_name = 'course_questions'"
   ]
  },
  {
   "cell_type": "code",
   "execution_count": 6,
   "id": "e7fbb29a-48c4-45ec-892c-81995356d417",
   "metadata": {},
   "outputs": [
    {
     "data": {
      "text/plain": [
       "{'acknowledged': True,\n",
       " 'shards_acknowledged': True,\n",
       " 'index': 'course_questions'}"
      ]
     },
     "execution_count": 6,
     "metadata": {},
     "output_type": "execute_result"
    }
   ],
   "source": [
    "# Use es_client to create index\n",
    "es_client.indices.create(index = index_name, \n",
    "                         body = index_settings)"
   ]
  },
  {
   "cell_type": "markdown",
   "id": "d272c0dc-2504-48ef-82de-18803efcc12c",
   "metadata": {},
   "source": [
    "## Index the data "
   ]
  },
  {
   "cell_type": "code",
   "execution_count": 7,
   "id": "e359b982-7837-4937-b1d1-ee988cbd9e47",
   "metadata": {},
   "outputs": [],
   "source": [
    "import json\n",
    "from tqdm.auto import tqdm"
   ]
  },
  {
   "cell_type": "code",
   "execution_count": 8,
   "id": "3eeea8ac-799e-4fbc-8e11-0a6ab3e75bb7",
   "metadata": {},
   "outputs": [],
   "source": [
    "# Use created doc json \n",
    "# open documents in readtext mode \n",
    "try:\n",
    "    with open('documents.json', 'rt') as f_in: \n",
    "        docs_raw = json.load(f_in)\n",
    "except FileNotFoundError:\n",
    "    print(\"The file documents.json was not found.\")\n",
    "    exit(1)\n",
    "except json.JSONDecodeError:\n",
    "    print(\"Error decoding JSON from the file.\")\n",
    "    exit(1)\n"
   ]
  },
  {
   "cell_type": "code",
   "execution_count": 9,
   "id": "7f832612-78d9-422f-8303-117120ee11b3",
   "metadata": {},
   "outputs": [
    {
     "name": "stdout",
     "output_type": "stream",
     "text": [
      "[\n",
      "  {\n",
      "    \"course\": \"data-engineering-zoomcamp\",\n",
      "    \"documents\": [\n",
      "      {\n",
      "        \"text\": \"12q`\\tThe purpose of this document is to capture frequently asked technical questions\\nThe exact day and hour of the course will be 15th Jan 2024 at 17h00. The course will start with the first  \\u201cOffice Hours'' live.\\nSubscribe to course public Google Calendar (it works from Desktop only).\\nRegister before the course starts using this link.\\nJoin the course Telegram channel with announcements.\\nDon\\u2019t forget to register in DataTalks.Club's Slack and join the channel.\",\n",
      "        \"section\": \"General course-related questions\",\n",
      "        \"question\": \"Course - When will the course start?\"\n",
      "      },\n",
      "      {\n"
     ]
    }
   ],
   "source": [
    "!head documents.json"
   ]
  },
  {
   "cell_type": "code",
   "execution_count": 36,
   "id": "ff94ed21-8ca0-4c1d-9985-2a5a6806f625",
   "metadata": {
    "scrolled": true
   },
   "outputs": [
    {
     "data": {
      "text/plain": [
       "dict_keys(['course', 'documents'])"
      ]
     },
     "execution_count": 36,
     "metadata": {},
     "output_type": "execute_result"
    }
   ],
   "source": [
    "docs_raw[0].keys()"
   ]
  },
  {
   "cell_type": "code",
   "execution_count": null,
   "id": "82bafef5-561e-4931-b6ee-246afe97e386",
   "metadata": {},
   "outputs": [],
   "source": []
  },
  {
   "cell_type": "code",
   "execution_count": 11,
   "id": "855ca5e1-c0eb-416b-a973-d291e1ac1c18",
   "metadata": {},
   "outputs": [
    {
     "data": {
      "text/plain": [
       "{'text': \"12q`\\tThe purpose of this document is to capture frequently asked technical questions\\nThe exact day and hour of the course will be 15th Jan 2024 at 17h00. The course will start with the first  “Office Hours'' live.\\nSubscribe to course public Google Calendar (it works from Desktop only).\\nRegister before the course starts using this link.\\nJoin the course Telegram channel with announcements.\\nDon’t forget to register in DataTalks.Club's Slack and join the channel.\",\n",
       " 'section': 'General course-related questions',\n",
       " 'question': 'Course - When will the course start?',\n",
       " 'course': 'data-engineering-zoomcamp'}"
      ]
     },
     "execution_count": 11,
     "metadata": {},
     "output_type": "execute_result"
    }
   ],
   "source": [
    "# create list of dictioniaries \n",
    "documents = []\n",
    "\n",
    "for course_dict in docs_raw: \n",
    "    for doc in course_dict['documents']:\n",
    "        doc['course'] = course_dict['course']\n",
    "        documents.append(doc)\n",
    "\n",
    "documents[0]"
   ]
  },
  {
   "cell_type": "code",
   "execution_count": 12,
   "id": "7c9ad982-b482-4dca-8da6-6a657511d2ed",
   "metadata": {},
   "outputs": [
    {
     "data": {
      "application/vnd.jupyter.widget-view+json": {
       "model_id": "24b7a82ae27645c18c2c2ce0e462f170",
       "version_major": 2,
       "version_minor": 0
      },
      "text/plain": [
       "  0%|          | 0/1024 [00:00<?, ?it/s]"
      ]
     },
     "metadata": {},
     "output_type": "display_data"
    }
   ],
   "source": [
    "# Index all documents\n",
    "for doc in tqdm(documents):\n",
    "    es_client.index(index = index_name, \n",
    "                    body = doc)"
   ]
  },
  {
   "cell_type": "markdown",
   "id": "3089b429-5772-4e71-a660-9fa3425a7379",
   "metadata": {},
   "source": [
    "## Querying the data with Elasticsearch"
   ]
  },
  {
   "cell_type": "code",
   "execution_count": 43,
   "id": "ec63e82e-b727-48d1-9573-cc48f7884fa8",
   "metadata": {},
   "outputs": [],
   "source": [
    "def elastic_search(query):\n",
    "    search_query = {\n",
    "        \"size\": 5,\n",
    "        \"query\": {\n",
    "            \"bool\": {\n",
    "                \"must\": {\n",
    "                    \"multi_match\": {\n",
    "                        \"query\": query,\n",
    "                        \"fields\": [\"question^3\", \n",
    "                                   \"text\", \n",
    "                                   \"section\"],\n",
    "                        \"type\": \"best_fields\"\n",
    "                    }\n",
    "                },\n",
    "                # this is optional to filter e.g. for specific courses \n",
    "                # \"filter\": {\n",
    "                #     \"term\": {\n",
    "                #         \"course\": \"data-engineering-zoomcamp\"\n",
    "                #     }\n",
    "                # }\n",
    "            }\n",
    "        }\n",
    "    }\n",
    "\n",
    "    response = es_client.search(index=index_name, \n",
    "                                body=search_query)\n",
    "    \n",
    "    result_docs = []\n",
    "    \n",
    "    for hit in response['hits']['hits']:\n",
    "        result_docs.append(hit['_source'])\n",
    "    \n",
    "    return result_docs"
   ]
  },
  {
   "cell_type": "markdown",
   "id": "7f45fe65-2a08-4cc6-8f61-0bf7b3c684fb",
   "metadata": {},
   "source": [
    "## Rag pipeline"
   ]
  },
  {
   "cell_type": "code",
   "execution_count": 38,
   "id": "bd3ecc42-2dce-40ad-8cf6-88a93085d829",
   "metadata": {},
   "outputs": [],
   "source": [
    "def build_prompt(query, search_results): \n",
    "\n",
    "    prompt_template = \"\"\"  \n",
    "\n",
    "    You're a course teaching assistant.\n",
    "    \n",
    "    Answer the QUESTION based on the CONTEXT from the FAQ database.\n",
    "\n",
    "    Use only the facts from the CONTEXT when answering the QUESTION.\n",
    "\n",
    "    If you can not answer the QUESTION based on the CONTEXT, inform the user.  \n",
    "        \n",
    "    QUESTION: {question}\n",
    "    \n",
    "    CONTEXT: {context}\n",
    "    \"\"\".strip()\n",
    "\n",
    "    context = \"\"\n",
    "\n",
    "    for doc in search_results: \n",
    "        context = context + f\"section: {doc['section']}\\nquestion: {doc['question']}\\nanswer: {doc['text']}\\n\\n\"\n",
    "\n",
    "    return prompt_template.format(question = query, \n",
    "                                  context = context).strip()"
   ]
  },
  {
   "cell_type": "code",
   "execution_count": 39,
   "id": "38d6b82e-b30a-47a3-a52f-055b2d748d3a",
   "metadata": {},
   "outputs": [],
   "source": [
    "def llm(prompt):\n",
    "    response = client.chat.completions.create(\n",
    "        model = 'gpt-4o',\n",
    "        messages = [{                 \n",
    "            \"role\": \"user\", \n",
    "            \"content\": prompt\n",
    "        }])\n",
    "\n",
    "    return response.choices[0].message.content"
   ]
  },
  {
   "cell_type": "code",
   "execution_count": 40,
   "id": "a1eade26-9dba-4f23-88d6-3414647b35da",
   "metadata": {},
   "outputs": [],
   "source": [
    "def rag(query):\n",
    "    search_results = elastic_search(query)\n",
    "    prompt = build_prompt(query, search_results)\n",
    "    print(llm(prompt))"
   ]
  },
  {
   "cell_type": "code",
   "execution_count": 41,
   "id": "0d350245-e137-45a2-bd52-0873fbdbbdbb",
   "metadata": {},
   "outputs": [],
   "source": [
    "from openai import OpenAI\n",
    "client = OpenAI()"
   ]
  },
  {
   "cell_type": "code",
   "execution_count": 44,
   "id": "5464182b-a6a1-4bdc-a256-a64bbf48df50",
   "metadata": {},
   "outputs": [
    {
     "name": "stdout",
     "output_type": "stream",
     "text": [
      "To enroll in the course, please follow these steps:\n",
      "\n",
      "1. Visit the course page: [http://mlzoomcamp.com](http://mlzoomcamp.com/).\n",
      "2. Scroll down to start going through the course materials.\n",
      "3. Read everything in the cohort folder for your cohort’s year.\n",
      "4. Click on the links provided and begin watching the videos.\n",
      "5. You can also watch office hours from previous cohorts.\n",
      "6. Visit the DTC YouTube channel, click on Playlists, and search for your course cohort (e.g., ML Zoomcamp 2023).\n",
      "\n",
      "If you're following along in self-paced mode:\n",
      "- Check out the pins and bookmarks in the course channel.\n",
      "- Read the repository bookmarked in the channel and watch the video lessons.\n",
      "- Use the FAQ document or search the channel for answers to common questions.\n",
      "- If additional help is needed, you can tag @ZoomcampQABot for a summary.\n",
      "\n",
      "You can access the course syllabus directly through this link: [http://mlzoomcamp.com/#syllabus](http://mlzoomcamp.com/#syllabus).\n",
      "\n",
      "Welcome to the course!\n"
     ]
    }
   ],
   "source": [
    "query = \"How do I run Kafka?\"\n",
    "query = \"What do we learn about AWS Lambda?\"\n",
    "query = \"The course just started. How do I enroll?\"\n",
    "rag(query)"
   ]
  },
  {
   "cell_type": "code",
   "execution_count": null,
   "id": "1a01ceff-1e27-4a55-a1fd-edf2223ac805",
   "metadata": {},
   "outputs": [],
   "source": []
  }
 ],
 "metadata": {
  "kernelspec": {
   "display_name": "Python 3 (ipykernel)",
   "language": "python",
   "name": "python3"
  },
  "language_info": {
   "codemirror_mode": {
    "name": "ipython",
    "version": 3
   },
   "file_extension": ".py",
   "mimetype": "text/x-python",
   "name": "python",
   "nbconvert_exporter": "python",
   "pygments_lexer": "ipython3",
   "version": "3.12.2"
  }
 },
 "nbformat": 4,
 "nbformat_minor": 5
}
