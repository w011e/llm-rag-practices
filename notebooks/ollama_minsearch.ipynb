{
 "cells": [
  {
   "cell_type": "markdown",
   "id": "b3c2e1bd-8674-4902-b893-73a2be4c293e",
   "metadata": {},
   "source": [
    "## Set up minsearch"
   ]
  },
  {
   "cell_type": "code",
   "execution_count": 1,
   "id": "719145d2-c0ba-4ff8-8cee-e053d0d4aa67",
   "metadata": {},
   "outputs": [
    {
     "name": "stdout",
     "output_type": "stream",
     "text": [
      "--2024-07-09 13:30:24--  https://raw.githubusercontent.com/alexeygrigorev/minsearch/main/minsearch.py\n",
      "Resolving raw.githubusercontent.com (raw.githubusercontent.com)... 185.199.111.133, 185.199.108.133, 185.199.109.133, ...\n",
      "Connecting to raw.githubusercontent.com (raw.githubusercontent.com)|185.199.111.133|:443... connected.\n",
      "HTTP request sent, awaiting response... 200 OK\n",
      "Length: 3832 (3.7K) [text/plain]\n",
      "Saving to: ‘minsearch.py’\n",
      "\n",
      "minsearch.py        100%[===================>]   3.74K  --.-KB/s    in 0s      \n",
      "\n",
      "2024-07-09 13:30:24 (33.3 MB/s) - ‘minsearch.py’ saved [3832/3832]\n",
      "\n"
     ]
    }
   ],
   "source": [
    "!rm -f minsearch.py\n",
    "!wget https://raw.githubusercontent.com/alexeygrigorev/minsearch/main/minsearch.py"
   ]
  },
  {
   "cell_type": "code",
   "execution_count": 2,
   "id": "2c7f4fbb-28e3-49a9-b6aa-0d66d6a8476e",
   "metadata": {},
   "outputs": [
    {
     "data": {
      "text/plain": [
       "<minsearch.Index at 0x76c77cd9d520>"
      ]
     },
     "execution_count": 2,
     "metadata": {},
     "output_type": "execute_result"
    }
   ],
   "source": [
    "import requests \n",
    "import minsearch\n",
    "\n",
    "docs_url = 'https://github.com/DataTalksClub/llm-zoomcamp/blob/main/01-intro/documents.json?raw=1'\n",
    "docs_response = requests.get(docs_url)\n",
    "documents_raw = docs_response.json()\n",
    "\n",
    "documents = []\n",
    "\n",
    "for course in documents_raw:\n",
    "    course_name = course['course']\n",
    "\n",
    "    for doc in course['documents']:\n",
    "        doc['course'] = course_name\n",
    "        documents.append(doc)\n",
    "\n",
    "index = minsearch.Index(\n",
    "    text_fields=[\"question\", \"text\", \"section\"],\n",
    "    keyword_fields=[\"course\"]\n",
    ")\n",
    "\n",
    "index.fit(documents)"
   ]
  },
  {
   "cell_type": "markdown",
   "id": "47e9521a-499e-4f77-883f-1dbab1b13d86",
   "metadata": {},
   "source": [
    "## Pipeline using Ollama "
   ]
  },
  {
   "cell_type": "code",
   "execution_count": 8,
   "id": "8a44515b-ff30-4d60-8095-c695d12763e8",
   "metadata": {},
   "outputs": [],
   "source": [
    "def search(query):\n",
    "    boost = {'question': 3.0, 'section': 0.5}\n",
    "\n",
    "    results = index.search(\n",
    "        query=query,\n",
    "        filter_dict={'course': 'data-engineering-zoomcamp'},\n",
    "        boost_dict=boost,\n",
    "        num_results=5\n",
    "    )\n",
    "\n",
    "    return results"
   ]
  },
  {
   "cell_type": "code",
   "execution_count": 9,
   "id": "9e9e8e03-d6c8-4b22-a0a5-6add0972055f",
   "metadata": {},
   "outputs": [],
   "source": [
    "def build_prompt(query, search_results):\n",
    "    prompt_template = \"\"\"\n",
    "You're a course teaching assistant. Answer the QUESTION based on the CONTEXT from the FAQ database.\n",
    "Use only the facts from the CONTEXT when answering the QUESTION.\n",
    "\n",
    "QUESTION: {question}\n",
    "\n",
    "CONTEXT: \n",
    "{context}\n",
    "\"\"\".strip()\n",
    "\n",
    "    context = \"\"\n",
    "    \n",
    "    for doc in search_results:\n",
    "        context = context + f\"section: {doc['section']}\\nquestion: {doc['question']}\\nanswer: {doc['text']}\\n\\n\"\n",
    "    \n",
    "    prompt = prompt_template.format(question=query, context=context).strip()\n",
    "    return prompt"
   ]
  },
  {
   "cell_type": "code",
   "execution_count": 10,
   "id": "bfad59e9-67ee-4a7a-beff-692468fbadea",
   "metadata": {},
   "outputs": [],
   "source": [
    "def llm(prompt):\n",
    "    response = client.chat.completions.create(\n",
    "        model='phi3',\n",
    "        messages=[{\"role\": \"user\", \"content\": prompt}]\n",
    "    )\n",
    "    \n",
    "    return response.choices[0].message.content"
   ]
  },
  {
   "cell_type": "code",
   "execution_count": 11,
   "id": "a3ceb3b7-601f-4ca2-85d6-342c34dc911b",
   "metadata": {},
   "outputs": [],
   "source": [
    "def rag(query):\n",
    "    search_results = search(query)\n",
    "    prompt = build_prompt(query, search_results)\n",
    "    answer = llm(prompt)\n",
    "    return answer"
   ]
  },
  {
   "cell_type": "code",
   "execution_count": 12,
   "id": "652ae7fd-8a08-4896-a3b3-ac4669d38bfb",
   "metadata": {},
   "outputs": [],
   "source": [
    "# Implement Ollama using OpenAI API \n",
    "\n",
    "from openai import OpenAI \n",
    "\n",
    "client = OpenAI(\n",
    "    base_url = 'http://localhost:11434/v1/',\n",
    "    api_key = 'ollama',\n",
    ")"
   ]
  },
  {
   "cell_type": "code",
   "execution_count": 15,
   "id": "10a4cdce-d582-4c78-b5fd-d749af0d288e",
   "metadata": {},
   "outputs": [
    {
     "data": {
      "text/plain": [
       "\" Based on the CONTEXT provided in FAQs for a general course question:\\n\\nYes, even if the course has already started and as per your registration status, assuming that no one mentioned otherwise about an early sign-up requirement or restricted late registrations to certain enrollment policies only applicable after specific dates. But since you've not registered beforehand yet but can submit homeworks according to guidelines provided in FAQs which clearly state deadlines for final projects submission, so it seems like course registration is still possible even if the course has already started and will be taking part from 15th Jan at a specified time. It would help to confirm with your instructor as policies can change or become more specific once enrollment begins after starting date of the class; but based on this FAQ information, you are eligible for registration even if it has already started and will have guidelines about project submission deadlines not being left until last minute. You could also continue preparing your capstone project as instructed in course policies to be ready after final projects' due date is over; but again confirm with the respective authorities or institutions that govern this particular class before committing fully based on FAQ information alone, because specifics might have been changed since these answers were compiled. \\n\\nRemember also you can join Telegram channel for announcements and Slack in DataTalks Club to seek more clarifications about course details like the registration process or submission guidelines etc., as this platform remains open even after class start; which might give additional context based on current policies, exceptions if any are applicable. This combined approach will increase your chances of successfully joining and adapting well in a dynamic academic environment such as DataTalks Club where self-paced learning may also be an option alongside instructor support for queries through the Slack channel or bot assistance using tags to search FAQ documents, all this while ensuring that you meet submission deadlines. \\n\\nAgain please confirm with your institution before making final decisions based on these suggestions from given context only as policies can change and course-specific guidelines may differ across institutions even for a similar class structure or framework in terms of providing registration flexibilities post start date; also keep an open channel towards understanding the current status at this time, if not yet clearly defined. \\n\\nPlease note that while FAQs are useful resources to provide quick and broad-ranging answers from documented knowledge about general questions asked by many users before enrollment starts for a course, these may differ as per individual institutions’ policies or specific class guidelines; hence always confirm directly with respective authorities or sources at the time of decision making.\""
      ]
     },
     "execution_count": 15,
     "metadata": {},
     "output_type": "execute_result"
    }
   ],
   "source": [
    "query = (\"The course has already started. Can I still join?\")\n",
    "rag(query)"
   ]
  },
  {
   "cell_type": "code",
   "execution_count": 16,
   "id": "5a03735d-f93b-44e4-a4d6-d0e1bfb3cd45",
   "metadata": {},
   "outputs": [
    {
     "name": "stdout",
     "output_type": "stream",
     "text": [
      " Based on the CONTEXT provided in FAQs for a general course question:\n",
      "\n",
      "Yes, even if the course has already started and as per your registration status, assuming that no one mentioned otherwise about an early sign-up requirement or restricted late registrations to certain enrollment policies only applicable after specific dates. But since you've not registered beforehand yet but can submit homeworks according to guidelines provided in FAQs which clearly state deadlines for final projects submission, so it seems like course registration is still possible even if the course has already started and will be taking part from 15th Jan at a specified time. It would help to confirm with your instructor as policies can change or become more specific once enrollment begins after starting date of the class; but based on this FAQ information, you are eligible for registration even if it has already started and will have guidelines about project submission deadlines not being left until last minute. You could also continue preparing your capstone project as instructed in course policies to be ready after final projects' due date is over; but again confirm with the respective authorities or institutions that govern this particular class before committing fully based on FAQ information alone, because specifics might have been changed since these answers were compiled. \n",
      "\n",
      "Remember also you can join Telegram channel for announcements and Slack in DataTalks Club to seek more clarifications about course details like the registration process or submission guidelines etc., as this platform remains open even after class start; which might give additional context based on current policies, exceptions if any are applicable. This combined approach will increase your chances of successfully joining and adapting well in a dynamic academic environment such as DataTalks Club where self-paced learning may also be an option alongside instructor support for queries through the Slack channel or bot assistance using tags to search FAQ documents, all this while ensuring that you meet submission deadlines. \n",
      "\n",
      "Again please confirm with your institution before making final decisions based on these suggestions from given context only as policies can change and course-specific guidelines may differ across institutions even for a similar class structure or framework in terms of providing registration flexibilities post start date; also keep an open channel towards understanding the current status at this time, if not yet clearly defined. \n",
      "\n",
      "Please note that while FAQs are useful resources to provide quick and broad-ranging answers from documented knowledge about general questions asked by many users before enrollment starts for a course, these may differ as per individual institutions’ policies or specific class guidelines; hence always confirm directly with respective authorities or sources at the time of decision making.\n"
     ]
    }
   ],
   "source": [
    "print(_)"
   ]
  },
  {
   "cell_type": "code",
   "execution_count": null,
   "id": "6fa68b9e-bb32-48b1-8caa-a789fe971e1b",
   "metadata": {},
   "outputs": [],
   "source": []
  }
 ],
 "metadata": {
  "kernelspec": {
   "display_name": "Python 3 (ipykernel)",
   "language": "python",
   "name": "python3"
  },
  "language_info": {
   "codemirror_mode": {
    "name": "ipython",
    "version": 3
   },
   "file_extension": ".py",
   "mimetype": "text/x-python",
   "name": "python",
   "nbconvert_exporter": "python",
   "pygments_lexer": "ipython3",
   "version": "3.12.3"
  }
 },
 "nbformat": 4,
 "nbformat_minor": 5
}
