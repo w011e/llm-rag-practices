{
 "cells": [
  {
   "cell_type": "markdown",
   "id": "d2b05884-51b1-4c5c-b838-47f9113d6bb7",
   "metadata": {},
   "source": [
    "## Prepare ElasticSearch and Ollama"
   ]
  },
  {
   "cell_type": "markdown",
   "id": "c484fd9c-9cc4-4b83-a337-7b905d4be326",
   "metadata": {},
   "source": [
    "# Prepare ElasticSearch and OpenAI API"
   ]
  },
  {
   "cell_type": "markdown",
   "id": "15664f50-d9ca-425c-84ab-7ba57a7f0c2d",
   "metadata": {},
   "source": [
    "# Prepare ElasticSearch and OpenAI API "
   ]
  },
  {
   "cell_type": "code",
   "execution_count": 1,
   "id": "516f05f5",
   "metadata": {},
   "outputs": [],
   "source": [
    "# !pip install openai elasticsearch\n",
    "from openai import OpenAI\n",
    "from elasticsearch import Elasticsearch"
   ]
  },
  {
   "cell_type": "code",
   "execution_count": 2,
   "id": "4d5ca6aa",
   "metadata": {},
   "outputs": [],
   "source": [
    "client = OpenAI(\n",
    "    base_url='http://localhost:11434/v1/',\n",
    "    api_key='ollama',\n",
    ")"
   ]
  },
  {
   "cell_type": "code",
   "execution_count": 3,
   "id": "76402a91-479f-4f44-9d78-ad895541a740",
   "metadata": {},
   "outputs": [],
   "source": [
    "# Increase timeout settings\n",
    "es_client = Elasticsearch('http://localhost:9200', \n",
    "                          request_timeout=60, \n",
    "                          max_retries=10, \n",
    "                          retry_on_timeout=True)"
   ]
  },
  {
   "cell_type": "code",
   "execution_count": 4,
   "id": "dcfbdde1-381a-404e-9034-aadab50c0db9",
   "metadata": {},
   "outputs": [
    {
     "name": "stdout",
     "output_type": "stream",
     "text": [
      "Cluster Health: {'cluster_name': 'docker-cluster', 'status': 'green', 'timed_out': False, 'number_of_nodes': 1, 'number_of_data_nodes': 1, 'active_primary_shards': 2, 'active_shards': 2, 'relocating_shards': 0, 'initializing_shards': 0, 'unassigned_shards': 0, 'delayed_unassigned_shards': 0, 'number_of_pending_tasks': 0, 'number_of_in_flight_fetch': 0, 'task_max_waiting_in_queue_millis': 0, 'active_shards_percent_as_number': 100.0}\n"
     ]
    }
   ],
   "source": [
    "# Check cluster health\n",
    "health = es_client.cluster.health()\n",
    "print(\"Cluster Health:\", health)"
   ]
  },
  {
   "cell_type": "code",
   "execution_count": 5,
   "id": "c87acf11-2ea4-4288-8ace-2f0868071352",
   "metadata": {
    "scrolled": true
   },
   "outputs": [],
   "source": [
    "# Create index \n",
    "\n",
    "index_settings = {\n",
    "    \"settings\": {\n",
    "        \"number_of_shards\": 1,\n",
    "        \"number_of_replicas\": 0\n",
    "    },\n",
    "    \"mappings\": {\n",
    "        \"properties\": {\n",
    "            \"text\": {\"type\": \"text\"},\n",
    "            \"section\": {\"type\": \"text\"},\n",
    "            \"question\": {\"type\": \"text\"},\n",
    "            \"course\": {\"type\": \"keyword\"} \n",
    "        }\n",
    "    }\n",
    "}\n",
    "\n",
    "index_name = \"course-questions\""
   ]
  },
  {
   "cell_type": "code",
   "execution_count": 6,
   "id": "0de48096-0602-49ac-a97f-fee2b262facf",
   "metadata": {},
   "outputs": [
    {
     "name": "stdout",
     "output_type": "stream",
     "text": [
      "Deleted existing index: course-questions\n",
      "Created new index: course-questions\n"
     ]
    }
   ],
   "source": [
    "# Delete the existing index if it exists\n",
    "if es_client.indices.exists(index=index_name):\n",
    "    es_client.indices.delete(index=index_name)\n",
    "    print(f\"Deleted existing index: {index_name}\")\n",
    "\n",
    "# Create the new index\n",
    "es_client.indices.create(index=index_name, \n",
    "                         body=index_settings)\n",
    "print(f\"Created new index: {index_name}\")"
   ]
  },
  {
   "cell_type": "code",
   "execution_count": 7,
   "id": "3eeea8ac-799e-4fbc-8e11-0a6ab3e75bb7",
   "metadata": {},
   "outputs": [],
   "source": [
    "import requests \n",
    "from tqdm.auto import tqdm\n",
    "\n",
    "docs_url = 'https://github.com/DataTalksClub/llm-zoomcamp/blob/main/01-intro/documents.json?raw=1'\n",
    "docs_response = requests.get(docs_url)\n",
    "documents_raw = docs_response.json()\n",
    "\n",
    "documents = []\n",
    "\n",
    "for course in documents_raw:\n",
    "    course_name = course['course']\n",
    "\n",
    "    for doc in course['documents']:\n",
    "        doc['course'] = course_name\n",
    "        documents.append(doc)"
   ]
  },
  {
   "cell_type": "code",
   "execution_count": 8,
   "id": "7c9ad982-b482-4dca-8da6-6a657511d2ed",
   "metadata": {},
   "outputs": [
    {
     "data": {
      "application/vnd.jupyter.widget-view+json": {
       "model_id": "fccb7424b7784ed5b022277c42c635ab",
       "version_major": 2,
       "version_minor": 0
      },
      "text/plain": [
       "  0%|          | 0/948 [00:00<?, ?it/s]"
      ]
     },
     "metadata": {},
     "output_type": "display_data"
    }
   ],
   "source": [
    "# Index all documents\n",
    "for doc in tqdm(documents):\n",
    "    es_client.index(index = index_name, \n",
    "                    body = doc)"
   ]
  },
  {
   "cell_type": "markdown",
   "id": "11880856-154a-439d-b16e-572bc5bf98ba",
   "metadata": {},
   "source": [
    "# Download the documents"
   ]
  },
  {
   "cell_type": "code",
   "execution_count": 9,
   "id": "7a4bb021-3120-499a-a1b2-2cfc9a6ad2ff",
   "metadata": {},
   "outputs": [
    {
     "data": {
      "text/plain": [
       "{'text': \"The purpose of this document is to capture frequently asked technical questions\\nThe exact day and hour of the course will be 15th Jan 2024 at 17h00. The course will start with the first  “Office Hours'' live.1\\nSubscribe to course public Google Calendar (it works from Desktop only).\\nRegister before the course starts using this link.\\nJoin the course Telegram channel with announcements.\\nDon’t forget to register in DataTalks.Club's Slack and join the channel.\",\n",
       " 'section': 'General course-related questions',\n",
       " 'question': 'Course - When will the course start?',\n",
       " 'course': 'data-engineering-zoomcamp'}"
      ]
     },
     "execution_count": 9,
     "metadata": {},
     "output_type": "execute_result"
    }
   ],
   "source": [
    "# verify \n",
    "documents[0]"
   ]
  },
  {
   "cell_type": "markdown",
   "id": "e9d9b8b0-75cd-4856-8cd9-8649741591d6",
   "metadata": {},
   "source": [
    "# RAG pipeline "
   ]
  },
  {
   "cell_type": "markdown",
   "id": "b16951e2-8090-4594-9ea6-ef53dd861f70",
   "metadata": {},
   "source": [
    "# RAG Pipeline"
   ]
  },
  {
   "cell_type": "code",
   "execution_count": 10,
   "id": "ec63e82e-b727-48d1-9573-cc48f7884fa8",
   "metadata": {},
   "outputs": [],
   "source": [
    "def elastic_search(query):\n",
    "    search_query = {\n",
    "        \"size\": 5,\n",
    "        \"query\": {\n",
    "            \"bool\": {\n",
    "                \"must\": {\n",
    "                    \"multi_match\": {\n",
    "                        \"query\": query,\n",
    "                        \"fields\": [\"question^3\", \n",
    "                                   \"text\", \n",
    "                                   \"section\"],\n",
    "                        \"type\": \"best_fields\"\n",
    "                    }\n",
    "                },\n",
    "                # this is optional to filter e.g. for specific courses \n",
    "                # \"filter\": {\n",
    "                #     \"term\": {\n",
    "                #         \"course\": \"data-engineering-zoomcamp\"\n",
    "                #     }\n",
    "                # }\n",
    "            }\n",
    "        }\n",
    "    }\n",
    "\n",
    "    response = es_client.search(index=index_name, \n",
    "                                body=search_query)\n",
    "    \n",
    "    result_docs = []\n",
    "    \n",
    "    for hit in response['hits']['hits']:\n",
    "        result_docs.append(hit['_source'])\n",
    "    \n",
    "    return result_docs"
   ]
  },
  {
   "cell_type": "code",
   "execution_count": 11,
   "id": "bd3ecc42-2dce-40ad-8cf6-88a93085d829",
   "metadata": {},
   "outputs": [],
   "source": [
    "def build_prompt(query, search_results):\n",
    "    prompt_template = \"\"\"\n",
    "    \n",
    "    You're a course teaching assistant. Answer the QUESTION based on the CONTEXT from the FAQ database.\n",
    "    Use only the facts from the CONTEXT when answering the QUESTION.\n",
    "    \n",
    "    QUESTION: {question}\n",
    "    \n",
    "    CONTEXT: \n",
    "    {context}\n",
    "    \"\"\".strip()\n",
    "\n",
    "    context = \"\"\n",
    "    \n",
    "    for doc in search_results:\n",
    "        context = context + f\"section: {doc['section']}\\nquestion: {doc['question']}\\nanswer: {doc['text']}\\n\\n\"\n",
    "    \n",
    "    prompt = prompt_template.format(question=query, context=context).strip()\n",
    "    return prompt"
   ]
  },
  {
   "cell_type": "code",
   "execution_count": 12,
   "id": "38d6b82e-b30a-47a3-a52f-055b2d748d3a",
   "metadata": {},
   "outputs": [],
   "source": [
    "def llm(prompt):\n",
    "    response = client.chat.completions.create(\n",
    "        model = 'phi3',\n",
    "        messages = [{                 \n",
    "            \"role\": \"user\", \n",
    "            \"content\": prompt\n",
    "        }])\n",
    "\n",
    "    return response.choices[0].message.content"
   ]
  },
  {
   "cell_type": "code",
   "execution_count": 13,
   "id": "a1eade26-9dba-4f23-88d6-3414647b35da",
   "metadata": {},
   "outputs": [],
   "source": [
    "def rag(query):\n",
    "    search_results = elastic_search(query)\n",
    "    prompt = build_prompt(query, search_results)\n",
    "    print(llm(prompt)) \n",
    "\n"
   ]
  },
  {
   "cell_type": "code",
   "execution_count": 16,
   "id": "5464182b-a6a1-4bdc-a256-a64bbf48df50",
   "metadata": {},
   "outputs": [],
   "source": [
    "# query = \"How do I run Kafka?\"\n",
    "# query = \"What do we learn about AWS Lambda?\"\n",
    "query = \"The has already started. Can I still join?\"\n",
    "rag(query)"
   ]
  },
  {
   "cell_type": "code",
   "execution_count": null,
   "id": "1a01ceff-1e27-4a55-a1fd-edf2223ac805",
   "metadata": {},
   "outputs": [],
   "source": []
  }
 ],
 "metadata": {
  "kernelspec": {
   "display_name": "Python 3 (ipykernel)",
   "language": "python",
   "name": "python3"
  },
  "language_info": {
   "codemirror_mode": {
    "name": "ipython",
    "version": 3
   },
   "file_extension": ".py",
   "mimetype": "text/x-python",
   "name": "python",
   "nbconvert_exporter": "python",
   "pygments_lexer": "ipython3",
   "version": "3.12.3"
  }
 },
 "nbformat": 4,
 "nbformat_minor": 5
}
